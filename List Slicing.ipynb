{
 "cells": [
  {
   "cell_type": "markdown",
   "metadata": {},
   "source": [
    "## List Slicing - Add and replace the elements in the list\n",
    "# list[starting:Ending - 1]"
   ]
  },
  {
   "cell_type": "code",
   "execution_count": 25,
   "metadata": {},
   "outputs": [
    {
     "name": "stdout",
     "output_type": "stream",
     "text": [
      "Before: [1, 2, 3, 5, 4, 7, 9]\n",
      "After: [5, 2, 3, 5, 4, 7, 10]\n"
     ]
    }
   ],
   "source": [
    "#Add/Replace an element in the list\n",
    "list1=[1,2,3,5,4,7,9]\n",
    "print(\"Before:\",list1)\n",
    "list1[-1]=10\n",
    "list1[0]=5\n",
    "print(\"After:\",list1)"
   ]
  },
  {
   "cell_type": "code",
   "execution_count": 35,
   "metadata": {},
   "outputs": [
    {
     "name": "stdout",
     "output_type": "stream",
     "text": [
      "Original List: [1, 2, 3, 5, 4, 7, 9]\n",
      "After adding-Begining: [5, 1, 2, 3, 5, 4, 7, 9]\n",
      "After adding-Between : [5, 56, 78, 3, 5, 4, 7, 9]\n",
      "After adding 10: [5, 56, 78, 3, 10]\n"
     ]
    }
   ],
   "source": [
    " \n",
    "list1=[1,2,3,5,4,7,9]\n",
    "print(\"Original List:\",list1)\n",
    "\n",
    "list1[:0]=[5]#add a value in the beginning, value should be in []\n",
    "print(\"After adding-Begining:\",list1)\n",
    "\n",
    "list1[1:3]=[56,78]#add a value in between, value should be in []\n",
    "print(\"After adding-Between :\",list1)\n",
    "\n",
    "# but the below will be replace all the values from index 4  \n",
    "list1[4:]=[10] \n",
    "print(\"After adding 10:\",list1)"
   ]
  },
  {
   "cell_type": "code",
   "execution_count": 36,
   "metadata": {},
   "outputs": [
    {
     "name": "stdout",
     "output_type": "stream",
     "text": [
      "[3, 4, 5]\n"
     ]
    },
    {
     "data": {
      "text/plain": [
       "[1, 2, 3, 4, 5, 6]"
      ]
     },
     "execution_count": 36,
     "metadata": {},
     "output_type": "execute_result"
    }
   ],
   "source": [
    "#Retrive a values in between indexes of the list\n",
    "list1=[1,2,3,4,5,6]\n",
    "print(list1[2:5])#index 2,3,4 ill be returned here\n",
    "list1"
   ]
  },
  {
   "cell_type": "code",
   "execution_count": 12,
   "metadata": {},
   "outputs": [
    {
     "data": {
      "text/plain": [
       "[4, 5, 6]"
      ]
     },
     "execution_count": 12,
     "metadata": {},
     "output_type": "execute_result"
    }
   ],
   "source": [
    "list1[3:]#Returns value from index 3 till ending"
   ]
  },
  {
   "cell_type": "code",
   "execution_count": 37,
   "metadata": {},
   "outputs": [
    {
     "data": {
      "text/plain": [
       "[1, 2, 3]"
      ]
     },
     "execution_count": 37,
     "metadata": {},
     "output_type": "execute_result"
    }
   ],
   "source": [
    "list1[:3]#Returns value from beginning till index 3-1 [index- 0 to 2]"
   ]
  },
  {
   "cell_type": "code",
   "execution_count": 42,
   "metadata": {},
   "outputs": [
    {
     "name": "stdout",
     "output_type": "stream",
     "text": [
      "[(10, 20, 30), 2, 3]\n"
     ]
    },
    {
     "data": {
      "text/plain": [
       "3"
      ]
     },
     "execution_count": 42,
     "metadata": {},
     "output_type": "execute_result"
    }
   ],
   "source": [
    "#Replace a value[index]\n",
    "list1=[1,2,3]\n",
    "list1[0]=10,20,30\n",
    "print(list1)\n",
    "len(list1)#length will not change"
   ]
  },
  {
   "cell_type": "code",
   "execution_count": 40,
   "metadata": {},
   "outputs": [
    {
     "name": "stdout",
     "output_type": "stream",
     "text": [
      "[10, 20, 30, 1, 2, 3]\n"
     ]
    },
    {
     "data": {
      "text/plain": [
       "6"
      ]
     },
     "execution_count": 40,
     "metadata": {},
     "output_type": "execute_result"
    }
   ],
   "source": [
    "#Insert a values as a seperate values[:0]\n",
    "list1=[1,2,3]\n",
    "list1[:0]=[10,20,30]\n",
    "print(list1)\n",
    "len(list1)#length changed"
   ]
  },
  {
   "cell_type": "code",
   "execution_count": 24,
   "metadata": {},
   "outputs": [
    {
     "data": {
      "text/plain": [
       "2"
      ]
     },
     "execution_count": 24,
     "metadata": {},
     "output_type": "execute_result"
    }
   ],
   "source": [
    "#Retrive index of the element\n",
    "list1=[1,4,'John',2,3]\n",
    "list1.index('John')\n"
   ]
  },
  {
   "cell_type": "markdown",
   "metadata": {},
   "source": [
    "## Insert without replacing "
   ]
  },
  {
   "cell_type": "code",
   "execution_count": 53,
   "metadata": {},
   "outputs": [
    {
     "name": "stdout",
     "output_type": "stream",
     "text": [
      "[1, 2, 3, 4, 5]\n"
     ]
    }
   ],
   "source": [
    "list1=[1,2,4,5]\n",
    "list2=list1\n",
    "list1.insert(2,3)\n",
    "print(list2)"
   ]
  }
 ],
 "metadata": {
  "kernelspec": {
   "display_name": "Python 3",
   "language": "python",
   "name": "python3"
  },
  "language_info": {
   "codemirror_mode": {
    "name": "ipython",
    "version": 3
   },
   "file_extension": ".py",
   "mimetype": "text/x-python",
   "name": "python",
   "nbconvert_exporter": "python",
   "pygments_lexer": "ipython3",
   "version": "3.7.6"
  }
 },
 "nbformat": 4,
 "nbformat_minor": 4
}
